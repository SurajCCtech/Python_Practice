{
 "cells": [
  {
   "cell_type": "code",
   "execution_count": 1,
   "id": "8bfd2bea-b0ed-4e3e-954a-939a0d25dae3",
   "metadata": {},
   "outputs": [
    {
     "name": "stdout",
     "output_type": "stream",
     "text": [
      "Hello World!!\n"
     ]
    }
   ],
   "source": [
    "print (\"Hello World!!\")"
   ]
  },
  {
   "cell_type": "code",
   "execution_count": 4,
   "id": "ba90369b-9bb4-4dba-a7b4-62cae926aab4",
   "metadata": {},
   "outputs": [
    {
     "name": "stdout",
     "output_type": "stream",
     "text": [
      "S P A M "
     ]
    }
   ],
   "source": [
    "for x in \"SPAM\":\n",
    "    print(x, end=\" \")"
   ]
  },
  {
   "cell_type": "code",
   "execution_count": null,
   "id": "12f7ded8-ee06-4b36-80be-5a03f0407fad",
   "metadata": {},
   "outputs": [],
   "source": [
    "int X=10\n",
    "while "
   ]
  }
 ],
 "metadata": {
  "kernelspec": {
   "display_name": "Python 3 (ipykernel)",
   "language": "python",
   "name": "python3"
  },
  "language_info": {
   "codemirror_mode": {
    "name": "ipython",
    "version": 3
   },
   "file_extension": ".py",
   "mimetype": "text/x-python",
   "name": "python",
   "nbconvert_exporter": "python",
   "pygments_lexer": "ipython3",
   "version": "3.8.2"
  }
 },
 "nbformat": 4,
 "nbformat_minor": 5
}
