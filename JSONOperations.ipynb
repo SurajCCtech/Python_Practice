{
 "cells": [
  {
   "cell_type": "code",
   "execution_count": 1,
   "id": "7e66f40e-009f-4bdf-b28d-8649c01ccbb1",
   "metadata": {},
   "outputs": [],
   "source": [
    "import json"
   ]
  },
  {
   "cell_type": "code",
   "execution_count": 10,
   "id": "8e4cf2df-d3ff-4230-ab17-954bdc7cfe68",
   "metadata": {},
   "outputs": [],
   "source": [
    "with open('/Users/apple/Downloads/545483b2-9d22-4eae-b50a-bc3c888a3548.json', 'r') as file:\n",
    "    data = json.load(file)"
   ]
  },
  {
   "cell_type": "code",
   "execution_count": 15,
   "id": "2655c72c-8be7-4ac5-931e-95ddb9c35ddb",
   "metadata": {},
   "outputs": [
    {
     "ename": "TypeError",
     "evalue": "the JSON object must be str, bytes or bytearray, not dict",
     "output_type": "error",
     "traceback": [
      "\u001b[0;31m---------------------------------------------------------------------------\u001b[0m",
      "\u001b[0;31mTypeError\u001b[0m                                 Traceback (most recent call last)",
      "Cell \u001b[0;32mIn[15], line 1\u001b[0m\n\u001b[0;32m----> 1\u001b[0m data_1 \u001b[38;5;241m=\u001b[39m \u001b[43mjson\u001b[49m\u001b[38;5;241;43m.\u001b[39;49m\u001b[43mloads\u001b[49m\u001b[43m(\u001b[49m\u001b[43mdata\u001b[49m\u001b[43m)\u001b[49m\n",
      "File \u001b[0;32m/Library/Frameworks/Python.framework/Versions/3.8/lib/python3.8/json/__init__.py:341\u001b[0m, in \u001b[0;36mloads\u001b[0;34m(s, cls, object_hook, parse_float, parse_int, parse_constant, object_pairs_hook, **kw)\u001b[0m\n\u001b[1;32m    339\u001b[0m \u001b[38;5;28;01melse\u001b[39;00m:\n\u001b[1;32m    340\u001b[0m     \u001b[38;5;28;01mif\u001b[39;00m \u001b[38;5;129;01mnot\u001b[39;00m \u001b[38;5;28misinstance\u001b[39m(s, (\u001b[38;5;28mbytes\u001b[39m, \u001b[38;5;28mbytearray\u001b[39m)):\n\u001b[0;32m--> 341\u001b[0m         \u001b[38;5;28;01mraise\u001b[39;00m \u001b[38;5;167;01mTypeError\u001b[39;00m(\u001b[38;5;124mf\u001b[39m\u001b[38;5;124m'\u001b[39m\u001b[38;5;124mthe JSON object must be str, bytes or bytearray, \u001b[39m\u001b[38;5;124m'\u001b[39m\n\u001b[1;32m    342\u001b[0m                         \u001b[38;5;124mf\u001b[39m\u001b[38;5;124m'\u001b[39m\u001b[38;5;124mnot \u001b[39m\u001b[38;5;132;01m{\u001b[39;00ms\u001b[38;5;241m.\u001b[39m\u001b[38;5;18m__class__\u001b[39m\u001b[38;5;241m.\u001b[39m\u001b[38;5;18m__name__\u001b[39m\u001b[38;5;132;01m}\u001b[39;00m\u001b[38;5;124m'\u001b[39m)\n\u001b[1;32m    343\u001b[0m     s \u001b[38;5;241m=\u001b[39m s\u001b[38;5;241m.\u001b[39mdecode(detect_encoding(s), \u001b[38;5;124m'\u001b[39m\u001b[38;5;124msurrogatepass\u001b[39m\u001b[38;5;124m'\u001b[39m)\n\u001b[1;32m    345\u001b[0m \u001b[38;5;28;01mif\u001b[39;00m \u001b[38;5;124m\"\u001b[39m\u001b[38;5;124mencoding\u001b[39m\u001b[38;5;124m\"\u001b[39m \u001b[38;5;129;01min\u001b[39;00m kw:\n",
      "\u001b[0;31mTypeError\u001b[0m: the JSON object must be str, bytes or bytearray, not dict"
     ]
    }
   ],
   "source": []
  },
  {
   "cell_type": "code",
   "execution_count": 11,
   "id": "708be656-8e9f-475a-ab40-c485dbbab69f",
   "metadata": {},
   "outputs": [
    {
     "data": {
      "text/plain": [
       "{'analyzeResult': {'pageResults': [{'page': 1,\n",
       "    'tables': [{'rows': 5,\n",
       "      'columns': 6,\n",
       "      'cells': [{'rowIndex': 0,\n",
       "        'columnIndex': 0,\n",
       "        'text': 'FROM',\n",
       "        'isHeader': True,\n",
       "        'boundingBox': [0.36, 5.23, 0.6, 5.23, 0.6, 5.3, 0.36, 5.3]},\n",
       "       {'rowIndex': 0,\n",
       "        'columnIndex': 1,\n",
       "        'text': 'TO',\n",
       "        'isHeader': True,\n",
       "        'boundingBox': [0.835, 5.23, 1.06, 5.23, 1.06, 5.3, 0.835, 5.3]},\n",
       "       {'rowIndex': 0,\n",
       "        'columnIndex': 2,\n",
       "        'text': 'DUR(hr)',\n",
       "        'isHeader': True,\n",
       "        'boundingBox': [1.375, 5.23, 1.6, 5.23, 1.6, 5.315, 1.375, 5.315]},\n",
       "       {'rowIndex': 0,\n",
       "        'columnIndex': 3,\n",
       "        'text': 'CLASS',\n",
       "        'isHeader': True,\n",
       "        'boundingBox': [2.055, 5.23, 2.17, 5.23, 2.17, 5.3, 2.055, 5.3]},\n",
       "       {'rowIndex': 0,\n",
       "        'columnIndex': 4,\n",
       "        'text': 'RIG',\n",
       "        'isHeader': True,\n",
       "        'boundingBox': [2.53, 5.235, 2.765, 5.235, 2.765, 5.31, 2.53, 5.31]},\n",
       "       {'rowIndex': 0,\n",
       "        'columnIndex': 5,\n",
       "        'text': 'DESCRIPTION',\n",
       "        'isHeader': True,\n",
       "        'boundingBox': [2.95, 5.185, 7.45, 5.185, 7.45, 7.47, 2.95, 7.47]},\n",
       "       {'rowIndex': 1,\n",
       "        'columnIndex': 0,\n",
       "        'text': '00:00',\n",
       "        'boundingBox': [0.36, 5.23, 0.6, 5.23, 0.6, 5.3, 0.36, 5.3]},\n",
       "       {'rowIndex': 1,\n",
       "        'columnIndex': 1,\n",
       "        'text': '11:00',\n",
       "        'boundingBox': [0.835, 5.23, 1.06, 5.23, 1.06, 5.3, 0.835, 5.3]},\n",
       "       {'rowIndex': 1,\n",
       "        'columnIndex': 2,\n",
       "        'text': '11,00',\n",
       "        'boundingBox': [1.375, 5.23, 1.6, 5.23, 1.6, 5.315, 1.375, 5.315]},\n",
       "       {'rowIndex': 1,\n",
       "        'columnIndex': 3,\n",
       "        'text': 'PT',\n",
       "        'boundingBox': [2.055, 5.23, 2.17, 5.23, 2.17, 5.3, 2.055, 5.3]},\n",
       "       {'rowIndex': 1,\n",
       "        'columnIndex': 4,\n",
       "        'text': 'MAIN',\n",
       "        'boundingBox': [2.53, 5.235, 2.765, 5.235, 2.765, 5.31, 2.53, 5.31]},\n",
       "       {'rowIndex': 1,\n",
       "        'columnIndex': 5,\n",
       "        'text': 'MW: Drilling with 8 1/2\" BHA from 5721 m to 5742 m, with 15-30 klbf, 80-120 rpm, 25-33 klbf.ft, 600 gpm / 2550 psi. Notes: - EDS#4 (CSR+UBSR). - Keeping booster with 350 gpm / 550 psi, SBP 300 psi, Choke A 46-48%. - MPD in AP mode @ 5547 m with 9,80 ppg. - Using PWD internal gauge to estimate ECD and to calibrate MPD model. - Backreaming 20 m at 5723 m and 5731 m due to surface torque increasing. - Backreaming 5 m at 5737 m due to low ROP and backreaming 30 m at 5740 due to low ROP and BHA vibration. - Observing stall with 33 klbf.ft at 5739 m. - Observing MRIL tool failure at 5739 m.',\n",
       "        'boundingBox': [2.95, 5.185, 7.45, 5.185, 7.45, 7.47, 2.95, 7.47]},\n",
       "       {'rowIndex': 2,\n",
       "        'columnIndex': 0,\n",
       "        'text': '11:00',\n",
       "        'boundingBox': [0.37, 7.585, 0.595, 7.585, 0.595, 7.655, 0.37, 7.655]},\n",
       "       {'rowIndex': 2,\n",
       "        'columnIndex': 1,\n",
       "        'text': '12:30',\n",
       "        'boundingBox': [0.83, 7.585, 1.06, 7.585, 1.06, 7.655, 0.83, 7.655]},\n",
       "       {'rowIndex': 2,\n",
       "        'columnIndex': 2,\n",
       "        'text': '1,50',\n",
       "        'boundingBox': [1.4, 7.585, 1.575, 7.585, 1.575, 7.67, 1.4, 7.67]},\n",
       "       {'rowIndex': 2,\n",
       "        'columnIndex': 3,\n",
       "        'text': 'NPT',\n",
       "        'boundingBox': [2.02, 7.585, 2.21, 7.585, 2.21, 7.655, 2.02, 7.655]},\n",
       "       {'rowIndex': 2,\n",
       "        'columnIndex': 4,\n",
       "        'text': 'MAIN',\n",
       "        'boundingBox': [2.53, 7.59, 2.765, 7.59, 2.765, 7.665, 2.53, 7.665]},\n",
       "       {'rowIndex': 2,\n",
       "        'columnIndex': 5,\n",
       "        'text': 'MW: Troubleshooting MRIL tool. Obs.: - Performing downlinks and manual mode switch, without sucess.',\n",
       "        'boundingBox': [2.95, 7.54, 6.525, 7.54, 6.525, 8.155, 2.95, 8.155]},\n",
       "       {'rowIndex': 3,\n",
       "        'columnIndex': 0,\n",
       "        'text': '12:30',\n",
       "        'boundingBox': [0.37, 8.275, 0.6, 8.275, 0.6, 8.345, 0.37, 8.345]},\n",
       "       {'rowIndex': 3,\n",
       "        'columnIndex': 1,\n",
       "        'text': '15:00',\n",
       "        'boundingBox': [0.83, 8.275, 1.06, 8.275, 1.06, 8.345, 0.83, 8.345]},\n",
       "       {'rowIndex': 3,\n",
       "        'columnIndex': 2,\n",
       "        'text': '2,50',\n",
       "        'boundingBox': [1.39, 8.275, 1.575, 8.275, 1.575, 8.36, 1.39, 8.36]},\n",
       "       {'rowIndex': 3,\n",
       "        'columnIndex': 3,\n",
       "        'text': 'PT',\n",
       "        'boundingBox': [2.055, 8.275, 2.17, 8.275, 2.17, 8.345, 2.055, 8.345]},\n",
       "       {'rowIndex': 3,\n",
       "        'columnIndex': 4,\n",
       "        'text': 'MAIN',\n",
       "        'boundingBox': [2.53, 8.28, 2.765, 8.28, 2.765, 8.35, 2.53, 8.35]},\n",
       "       {'rowIndex': 3,\n",
       "        'columnIndex': 5,\n",
       "        'text': 'MW: Drilling with 8 1/2\" BHA from 5742 m to 5747 m, with 15-37 klbf, 80 rpm, 25-32 klbf.ft, 600 gpm / 2550 psi. Notes: - Keeping booster with 350 gpm / 550 psi, SBP 300 psi, Choke A 46-48%. - MPD in AP mode @ 5547 m with 9,80 ppg. - Observing failure to receive M/LWD signal.',\n",
       "        'boundingBox': [2.95, 8.23, 7.455, 8.23, 7.455, 9.345, 2.95, 9.345]},\n",
       "       {'rowIndex': 4,\n",
       "        'columnIndex': 0,\n",
       "        'text': '15:00',\n",
       "        'boundingBox': [0.37, 9.46, 0.6, 9.46, 0.6, 9.535, 0.37, 9.535]},\n",
       "       {'rowIndex': 4,\n",
       "        'columnIndex': 1,\n",
       "        'text': '16:00',\n",
       "        'boundingBox': [0.83, 9.46, 1.06, 9.46, 1.06, 9.535, 0.83, 9.535]},\n",
       "       {'rowIndex': 4,\n",
       "        'columnIndex': 2,\n",
       "        'text': '1,00',\n",
       "        'boundingBox': [1.4, 9.46, 1.575, 9.46, 1.575, 9.545, 1.4, 9.545]},\n",
       "       {'rowIndex': 4,\n",
       "        'columnIndex': 3,\n",
       "        'text': 'NPT',\n",
       "        'boundingBox': [2.02, 9.46, 2.21, 9.46, 2.21, 9.535, 2.02, 9.535]},\n",
       "       {'rowIndex': 4,\n",
       "        'columnIndex': 4,\n",
       "        'text': 'MAIN',\n",
       "        'boundingBox': [2.53, 9.47, 2.765, 9.47, 2.765, 9.54, 2.53, 9.54]},\n",
       "       {'rowIndex': 4,\n",
       "        'columnIndex': 5,\n",
       "        'text': 'MW: Troubleshooting M/LWD tools. Obs.: - Performing downlinks and manual mode switch, with sucess.',\n",
       "        'boundingBox': [2.95, 9.415, 6.35, 9.415, 6.35, 10.03, 2.95, 10.03]}],\n",
       "      'boundingBox': [],\n",
       "      'tableName': 'Operations Summary',\n",
       "      'columnCount': 6}]}]}}"
      ]
     },
     "execution_count": 11,
     "metadata": {},
     "output_type": "execute_result"
    }
   ],
   "source": [
    "data"
   ]
  },
  {
   "cell_type": "code",
   "execution_count": 34,
   "id": "da04b532-bda0-4f15-840b-30091084ac49",
   "metadata": {},
   "outputs": [
    {
     "data": {
      "text/plain": [
       "'FROM'"
      ]
     },
     "execution_count": 34,
     "metadata": {},
     "output_type": "execute_result"
    }
   ],
   "source": [
    "cells[0]['text']"
   ]
  },
  {
   "cell_type": "code",
   "execution_count": 37,
   "id": "d0266055-15f8-4af3-aeec-325a5be63e57",
   "metadata": {},
   "outputs": [
    {
     "name": "stdout",
     "output_type": "stream",
     "text": [
      "['FROM', 'TO', 'DUR(hr)', 'CLASS', 'RIG', 'DESCRIPTION', '00:00', '11:00', '11,00', 'PT', 'MAIN', 'MW: Drilling with 8 1/2\" BHA from 5721 m to 5742 m, with 15-30 klbf, 80-120 rpm, 25-33 klbf.ft, 600 gpm / 2550 psi. Notes: - EDS#4 (CSR+UBSR). - Keeping booster with 350 gpm / 550 psi, SBP 300 psi, Choke A 46-48%. - MPD in AP mode @ 5547 m with 9,80 ppg. - Using PWD internal gauge to estimate ECD and to calibrate MPD model. - Backreaming 20 m at 5723 m and 5731 m due to surface torque increasing. - Backreaming 5 m at 5737 m due to low ROP and backreaming 30 m at 5740 due to low ROP and BHA vibration. - Observing stall with 33 klbf.ft at 5739 m. - Observing MRIL tool failure at 5739 m.', '11:00', '12:30', '1,50', 'NPT', 'MAIN', 'MW: Troubleshooting MRIL tool. Obs.: - Performing downlinks and manual mode switch, without sucess.', '12:30', '15:00', '2,50', 'PT', 'MAIN', 'MW: Drilling with 8 1/2\" BHA from 5742 m to 5747 m, with 15-37 klbf, 80 rpm, 25-32 klbf.ft, 600 gpm / 2550 psi. Notes: - Keeping booster with 350 gpm / 550 psi, SBP 300 psi, Choke A 46-48%. - MPD in AP mode @ 5547 m with 9,80 ppg. - Observing failure to receive M/LWD signal.', '15:00', '16:00', '1,00', 'NPT', 'MAIN', 'MW: Troubleshooting M/LWD tools. Obs.: - Performing downlinks and manual mode switch, with sucess.']\n"
     ]
    }
   ],
   "source": [
    "lst= []\n",
    "for item in cells:\n",
    "    temp= item['text']\n",
    "    lst.append(temp)\n",
    "\n",
    "print(lst)"
   ]
  },
  {
   "cell_type": "code",
   "execution_count": 41,
   "id": "67f66503-d88b-4bc3-9f6b-33f69bfad642",
   "metadata": {},
   "outputs": [],
   "source": [
    "cells = data['analyzeResult']['pageResults'][0]['tables'][0]['cells']"
   ]
  },
  {
   "cell_type": "code",
   "execution_count": 42,
   "id": "ace3cac7-0843-4916-a26a-38113067938d",
   "metadata": {},
   "outputs": [
    {
     "data": {
      "text/plain": [
       "[{'rowIndex': 0,\n",
       "  'columnIndex': 0,\n",
       "  'text': 'FROM',\n",
       "  'isHeader': True,\n",
       "  'boundingBox': [0.36, 5.23, 0.6, 5.23, 0.6, 5.3, 0.36, 5.3]},\n",
       " {'rowIndex': 0,\n",
       "  'columnIndex': 1,\n",
       "  'text': 'TO',\n",
       "  'isHeader': True,\n",
       "  'boundingBox': [0.835, 5.23, 1.06, 5.23, 1.06, 5.3, 0.835, 5.3]},\n",
       " {'rowIndex': 0,\n",
       "  'columnIndex': 2,\n",
       "  'text': 'DUR(hr)',\n",
       "  'isHeader': True,\n",
       "  'boundingBox': [1.375, 5.23, 1.6, 5.23, 1.6, 5.315, 1.375, 5.315]},\n",
       " {'rowIndex': 0,\n",
       "  'columnIndex': 3,\n",
       "  'text': 'CLASS',\n",
       "  'isHeader': True,\n",
       "  'boundingBox': [2.055, 5.23, 2.17, 5.23, 2.17, 5.3, 2.055, 5.3]},\n",
       " {'rowIndex': 0,\n",
       "  'columnIndex': 4,\n",
       "  'text': 'RIG',\n",
       "  'isHeader': True,\n",
       "  'boundingBox': [2.53, 5.235, 2.765, 5.235, 2.765, 5.31, 2.53, 5.31]},\n",
       " {'rowIndex': 0,\n",
       "  'columnIndex': 5,\n",
       "  'text': 'DESCRIPTION',\n",
       "  'isHeader': True,\n",
       "  'boundingBox': [2.95, 5.185, 7.45, 5.185, 7.45, 7.47, 2.95, 7.47]},\n",
       " {'rowIndex': 1,\n",
       "  'columnIndex': 0,\n",
       "  'text': '00:00',\n",
       "  'boundingBox': [0.36, 5.23, 0.6, 5.23, 0.6, 5.3, 0.36, 5.3]},\n",
       " {'rowIndex': 1,\n",
       "  'columnIndex': 1,\n",
       "  'text': '11:00',\n",
       "  'boundingBox': [0.835, 5.23, 1.06, 5.23, 1.06, 5.3, 0.835, 5.3]},\n",
       " {'rowIndex': 1,\n",
       "  'columnIndex': 2,\n",
       "  'text': '11,00',\n",
       "  'boundingBox': [1.375, 5.23, 1.6, 5.23, 1.6, 5.315, 1.375, 5.315]},\n",
       " {'rowIndex': 1,\n",
       "  'columnIndex': 3,\n",
       "  'text': 'PT',\n",
       "  'boundingBox': [2.055, 5.23, 2.17, 5.23, 2.17, 5.3, 2.055, 5.3]},\n",
       " {'rowIndex': 1,\n",
       "  'columnIndex': 4,\n",
       "  'text': 'MAIN',\n",
       "  'boundingBox': [2.53, 5.235, 2.765, 5.235, 2.765, 5.31, 2.53, 5.31]},\n",
       " {'rowIndex': 1,\n",
       "  'columnIndex': 5,\n",
       "  'text': 'MW: Drilling with 8 1/2\" BHA from 5721 m to 5742 m, with 15-30 klbf, 80-120 rpm, 25-33 klbf.ft, 600 gpm / 2550 psi. Notes: - EDS#4 (CSR+UBSR). - Keeping booster with 350 gpm / 550 psi, SBP 300 psi, Choke A 46-48%. - MPD in AP mode @ 5547 m with 9,80 ppg. - Using PWD internal gauge to estimate ECD and to calibrate MPD model. - Backreaming 20 m at 5723 m and 5731 m due to surface torque increasing. - Backreaming 5 m at 5737 m due to low ROP and backreaming 30 m at 5740 due to low ROP and BHA vibration. - Observing stall with 33 klbf.ft at 5739 m. - Observing MRIL tool failure at 5739 m.',\n",
       "  'boundingBox': [2.95, 5.185, 7.45, 5.185, 7.45, 7.47, 2.95, 7.47]},\n",
       " {'rowIndex': 2,\n",
       "  'columnIndex': 0,\n",
       "  'text': '11:00',\n",
       "  'boundingBox': [0.37, 7.585, 0.595, 7.585, 0.595, 7.655, 0.37, 7.655]},\n",
       " {'rowIndex': 2,\n",
       "  'columnIndex': 1,\n",
       "  'text': '12:30',\n",
       "  'boundingBox': [0.83, 7.585, 1.06, 7.585, 1.06, 7.655, 0.83, 7.655]},\n",
       " {'rowIndex': 2,\n",
       "  'columnIndex': 2,\n",
       "  'text': '1,50',\n",
       "  'boundingBox': [1.4, 7.585, 1.575, 7.585, 1.575, 7.67, 1.4, 7.67]},\n",
       " {'rowIndex': 2,\n",
       "  'columnIndex': 3,\n",
       "  'text': 'NPT',\n",
       "  'boundingBox': [2.02, 7.585, 2.21, 7.585, 2.21, 7.655, 2.02, 7.655]},\n",
       " {'rowIndex': 2,\n",
       "  'columnIndex': 4,\n",
       "  'text': 'MAIN',\n",
       "  'boundingBox': [2.53, 7.59, 2.765, 7.59, 2.765, 7.665, 2.53, 7.665]},\n",
       " {'rowIndex': 2,\n",
       "  'columnIndex': 5,\n",
       "  'text': 'MW: Troubleshooting MRIL tool. Obs.: - Performing downlinks and manual mode switch, without sucess.',\n",
       "  'boundingBox': [2.95, 7.54, 6.525, 7.54, 6.525, 8.155, 2.95, 8.155]},\n",
       " {'rowIndex': 3,\n",
       "  'columnIndex': 0,\n",
       "  'text': '12:30',\n",
       "  'boundingBox': [0.37, 8.275, 0.6, 8.275, 0.6, 8.345, 0.37, 8.345]},\n",
       " {'rowIndex': 3,\n",
       "  'columnIndex': 1,\n",
       "  'text': '15:00',\n",
       "  'boundingBox': [0.83, 8.275, 1.06, 8.275, 1.06, 8.345, 0.83, 8.345]},\n",
       " {'rowIndex': 3,\n",
       "  'columnIndex': 2,\n",
       "  'text': '2,50',\n",
       "  'boundingBox': [1.39, 8.275, 1.575, 8.275, 1.575, 8.36, 1.39, 8.36]},\n",
       " {'rowIndex': 3,\n",
       "  'columnIndex': 3,\n",
       "  'text': 'PT',\n",
       "  'boundingBox': [2.055, 8.275, 2.17, 8.275, 2.17, 8.345, 2.055, 8.345]},\n",
       " {'rowIndex': 3,\n",
       "  'columnIndex': 4,\n",
       "  'text': 'MAIN',\n",
       "  'boundingBox': [2.53, 8.28, 2.765, 8.28, 2.765, 8.35, 2.53, 8.35]},\n",
       " {'rowIndex': 3,\n",
       "  'columnIndex': 5,\n",
       "  'text': 'MW: Drilling with 8 1/2\" BHA from 5742 m to 5747 m, with 15-37 klbf, 80 rpm, 25-32 klbf.ft, 600 gpm / 2550 psi. Notes: - Keeping booster with 350 gpm / 550 psi, SBP 300 psi, Choke A 46-48%. - MPD in AP mode @ 5547 m with 9,80 ppg. - Observing failure to receive M/LWD signal.',\n",
       "  'boundingBox': [2.95, 8.23, 7.455, 8.23, 7.455, 9.345, 2.95, 9.345]},\n",
       " {'rowIndex': 4,\n",
       "  'columnIndex': 0,\n",
       "  'text': '15:00',\n",
       "  'boundingBox': [0.37, 9.46, 0.6, 9.46, 0.6, 9.535, 0.37, 9.535]},\n",
       " {'rowIndex': 4,\n",
       "  'columnIndex': 1,\n",
       "  'text': '16:00',\n",
       "  'boundingBox': [0.83, 9.46, 1.06, 9.46, 1.06, 9.535, 0.83, 9.535]},\n",
       " {'rowIndex': 4,\n",
       "  'columnIndex': 2,\n",
       "  'text': '1,00',\n",
       "  'boundingBox': [1.4, 9.46, 1.575, 9.46, 1.575, 9.545, 1.4, 9.545]},\n",
       " {'rowIndex': 4,\n",
       "  'columnIndex': 3,\n",
       "  'text': 'NPT',\n",
       "  'boundingBox': [2.02, 9.46, 2.21, 9.46, 2.21, 9.535, 2.02, 9.535]},\n",
       " {'rowIndex': 4,\n",
       "  'columnIndex': 4,\n",
       "  'text': 'MAIN',\n",
       "  'boundingBox': [2.53, 9.47, 2.765, 9.47, 2.765, 9.54, 2.53, 9.54]},\n",
       " {'rowIndex': 4,\n",
       "  'columnIndex': 5,\n",
       "  'text': 'MW: Troubleshooting M/LWD tools. Obs.: - Performing downlinks and manual mode switch, with sucess.',\n",
       "  'boundingBox': [2.95, 9.415, 6.35, 9.415, 6.35, 10.03, 2.95, 10.03]}]"
      ]
     },
     "execution_count": 42,
     "metadata": {},
     "output_type": "execute_result"
    }
   ],
   "source": [
    "cells"
   ]
  },
  {
   "cell_type": "code",
   "execution_count": 45,
   "id": "b65d81cc-7a79-459a-833f-6c9aeaf3586b",
   "metadata": {},
   "outputs": [],
   "source": [
    "data3=[]\n",
    "rowindex = [0, 1, 2, 3, 4]\n",
    "for i in rowindex:\n",
    "    list2= []\n",
    "    for index in cells:\n",
    "        if index['rowIndex'] == i:\n",
    "            list2.append(index['text'])\n",
    "    data3.append(list2)\n"
   ]
  },
  {
   "cell_type": "code",
   "execution_count": 50,
   "id": "2d639094-05f9-46e4-8e78-fe7b92acde6a",
   "metadata": {},
   "outputs": [
    {
     "data": {
      "text/plain": [
       "{'rowIndex': 0,\n",
       " 'columnIndex': 3,\n",
       " 'text': 'CLASS',\n",
       " 'isHeader': True,\n",
       " 'boundingBox': [2.055, 5.23, 2.17, 5.23, 2.17, 5.3, 2.055, 5.3]}"
      ]
     },
     "execution_count": 50,
     "metadata": {},
     "output_type": "execute_result"
    }
   ],
   "source": [
    "cells[3]"
   ]
  },
  {
   "cell_type": "code",
   "execution_count": null,
   "id": "1b7352e0-d85a-4961-bd78-5a348fe8db5b",
   "metadata": {},
   "outputs": [],
   "source": []
  }
 ],
 "metadata": {
  "kernelspec": {
   "display_name": "Python 3 (ipykernel)",
   "language": "python",
   "name": "python3"
  },
  "language_info": {
   "codemirror_mode": {
    "name": "ipython",
    "version": 3
   },
   "file_extension": ".py",
   "mimetype": "text/x-python",
   "name": "python",
   "nbconvert_exporter": "python",
   "pygments_lexer": "ipython3",
   "version": "3.8.2"
  }
 },
 "nbformat": 4,
 "nbformat_minor": 5
}
